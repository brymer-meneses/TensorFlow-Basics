{
  "nbformat": 4,
  "nbformat_minor": 0,
  "metadata": {
    "colab": {
      "name": "Letter Recognition.ipynb",
      "provenance": [],
      "authorship_tag": "ABX9TyOlZMHB/pFWmPZgVYbpkpOE",
      "include_colab_link": true
    },
    "kernelspec": {
      "name": "python3",
      "display_name": "Python 3"
    },
    "accelerator": "GPU"
  },
  "cells": [
    {
      "cell_type": "markdown",
      "metadata": {
        "id": "view-in-github",
        "colab_type": "text"
      },
      "source": [
        "<a href=\"https://colab.research.google.com/github/xBrymer/TensorFlow-Basics/blob/master/Letter_Recognition.ipynb\" target=\"_parent\"><img src=\"https://colab.research.google.com/assets/colab-badge.svg\" alt=\"Open In Colab\"/></a>"
      ]
    },
    {
      "cell_type": "code",
      "metadata": {
        "id": "xALXjtocHg1V",
        "colab_type": "code",
        "colab": {
          "base_uri": "https://localhost:8080/",
          "height": 224
        },
        "outputId": "03c54b02-cf6e-4b6d-833c-99ccea9dbffd"
      },
      "source": [
        "!pip install extra-keras-datasets\n"
      ],
      "execution_count": null,
      "outputs": [
        {
          "output_type": "stream",
          "text": [
            "Collecting extra-keras-datasets\n",
            "  Downloading https://files.pythonhosted.org/packages/f3/d1/336998050b8696966b5ecd12188b7bf250eaf9824411b1e1fb4a36f2c47e/extra_keras_datasets-0.1.7.tar.gz\n",
            "Requirement already satisfied: numpy in /usr/local/lib/python3.6/dist-packages (from extra-keras-datasets) (1.18.5)\n",
            "Requirement already satisfied: scipy in /usr/local/lib/python3.6/dist-packages (from extra-keras-datasets) (1.4.1)\n",
            "Building wheels for collected packages: extra-keras-datasets\n",
            "  Building wheel for extra-keras-datasets (setup.py) ... \u001b[?25l\u001b[?25hdone\n",
            "  Created wheel for extra-keras-datasets: filename=extra_keras_datasets-0.1.7-cp36-none-any.whl size=7311 sha256=2dea8ce21cd9230f94d8cb4dab6c3841bb4f8da49dfee9e4c0c3e151141c251e\n",
            "  Stored in directory: /root/.cache/pip/wheels/8a/04/95/e8f214025c2e40d5618a443e4ea09df0031050b35460ea007c\n",
            "Successfully built extra-keras-datasets\n",
            "Installing collected packages: extra-keras-datasets\n",
            "Successfully installed extra-keras-datasets-0.1.7\n"
          ],
          "name": "stdout"
        }
      ]
    },
    {
      "cell_type": "code",
      "metadata": {
        "id": "crdT-PZ-H22t",
        "colab_type": "code",
        "colab": {}
      },
      "source": [
        "from extra_keras_datasets import emnist"
      ],
      "execution_count": 1,
      "outputs": []
    },
    {
      "cell_type": "code",
      "metadata": {
        "id": "AAMHiLqXLbXp",
        "colab_type": "code",
        "colab": {}
      },
      "source": [
        "(input_train, target_train), (input_test, target_test) = emnist.load_data(type='letters')"
      ],
      "execution_count": 2,
      "outputs": []
    },
    {
      "cell_type": "code",
      "metadata": {
        "id": "JtRPEUAcMoIB",
        "colab_type": "code",
        "colab": {}
      },
      "source": [
        "from tensorflow import keras\n",
        "from keras.utils import to_categorical\n",
        "\n",
        "import tensorflow as tf\n",
        "import matplotlib.pyplot as plt\n",
        "\n",
        "from random import randint\n"
      ],
      "execution_count": 3,
      "outputs": []
    },
    {
      "cell_type": "code",
      "metadata": {
        "id": "t2eivvV8MKs4",
        "colab_type": "code",
        "colab": {}
      },
      "source": [
        "target_train_OH, target_test_OH = to_categorical(target_train), to_categorical(target_test)"
      ],
      "execution_count": 4,
      "outputs": []
    },
    {
      "cell_type": "code",
      "metadata": {
        "id": "EDtHENmQOk4W",
        "colab_type": "code",
        "colab": {}
      },
      "source": [
        "alphabet = {chr(i+96):i for i in range(1,27)}"
      ],
      "execution_count": 5,
      "outputs": []
    },
    {
      "cell_type": "code",
      "metadata": {
        "id": "GyBVgWzJODbb",
        "colab_type": "code",
        "colab": {
          "base_uri": "https://localhost:8080/",
          "height": 54
        },
        "outputId": "cee5b9ad-095c-45da-ef1c-8428efab6895"
      },
      "source": [
        "print(alphabet)"
      ],
      "execution_count": 6,
      "outputs": [
        {
          "output_type": "stream",
          "text": [
            "{'a': 1, 'b': 2, 'c': 3, 'd': 4, 'e': 5, 'f': 6, 'g': 7, 'h': 8, 'i': 9, 'j': 10, 'k': 11, 'l': 12, 'm': 13, 'n': 14, 'o': 15, 'p': 16, 'q': 17, 'r': 18, 's': 19, 't': 20, 'u': 21, 'v': 22, 'w': 23, 'x': 24, 'y': 25, 'z': 26}\n"
          ],
          "name": "stdout"
        }
      ]
    },
    {
      "cell_type": "code",
      "metadata": {
        "id": "DURIlazzO32u",
        "colab_type": "code",
        "colab": {}
      },
      "source": [
        "def get_key(val):\n",
        "  for key, value in alphabet.items():\n",
        "    if val == value:\n",
        "      return key"
      ],
      "execution_count": 7,
      "outputs": []
    },
    {
      "cell_type": "code",
      "metadata": {
        "id": "EjOa9IxSNKD4",
        "colab_type": "code",
        "colab": {
          "base_uri": "https://localhost:8080/",
          "height": 282
        },
        "outputId": "f3fb0f27-90e2-49ed-cde0-2726062f90f0"
      },
      "source": [
        "n = randint(0,10000)\n",
        "\n",
        "plt.imshow(input_train[n])\n",
        "letter = get_key(target_train[n])\n",
        "print(f'This is letter {letter}.')"
      ],
      "execution_count": 8,
      "outputs": [
        {
          "output_type": "stream",
          "text": [
            "This is letter s.\n"
          ],
          "name": "stdout"
        },
        {
          "output_type": "display_data",
          "data": {
            "image/png": "[encoded data removed]",
            "text/plain": [
              "<Figure size 432x288 with 1 Axes>"
            ]
          },
          "metadata": {
            "tags": [],
            "needs_background": "light"
          }
        }
      ]
    },
    {
      "cell_type": "code",
      "metadata": {
        "id": "w9kNe6jwPcpB",
        "colab_type": "code",
        "colab": {}
      },
      "source": [
        "from keras.models import Sequential\n",
        "from keras.layers import Conv2D, MaxPool2D, Dense, Dropout, Activation, BatchNormalization, Flatten\n",
        "\n",
        "import numpy as np"
      ],
      "execution_count": 9,
      "outputs": []
    },
    {
      "cell_type": "code",
      "metadata": {
        "id": "Vo99j3lKQUbu",
        "colab_type": "code",
        "colab": {
          "base_uri": "https://localhost:8080/",
          "height": 34
        },
        "outputId": "b6f13532-e93d-427f-9b6b-b6f3a349f58a"
      },
      "source": [
        "np.shape(input_test)"
      ],
      "execution_count": 10,
      "outputs": [
        {
          "output_type": "execute_result",
          "data": {
            "text/plain": [
              "(20800, 28, 28)"
            ]
          },
          "metadata": {
            "tags": []
          },
          "execution_count": 10
        }
      ]
    },
    {
      "cell_type": "code",
      "metadata": {
        "id": "S5USZkWgScug",
        "colab_type": "code",
        "colab": {}
      },
      "source": [
        "input_train = np.reshape(input_train, (124800, 28, 28, 1))\n",
        "input_test = np.reshape(input_test, (20800, 28, 28, 1))"
      ],
      "execution_count": 11,
      "outputs": []
    },
    {
      "cell_type": "code",
      "metadata": {
        "id": "jw4HrqXySSD6",
        "colab_type": "code",
        "colab": {
          "base_uri": "https://localhost:8080/",
          "height": 34
        },
        "outputId": "efed30c1-df7e-4643-aed9-a5b4e6359d9d"
      },
      "source": [
        "np.shape(input_test)"
      ],
      "execution_count": 13,
      "outputs": [
        {
          "output_type": "execute_result",
          "data": {
            "text/plain": [
              "(20800, 28, 28, 1)"
            ]
          },
          "metadata": {
            "tags": []
          },
          "execution_count": 13
        }
      ]
    },
    {
      "cell_type": "code",
      "metadata": {
        "id": "lPfWYSL4Qp99",
        "colab_type": "code",
        "colab": {}
      },
      "source": [
        "model = Sequential()\n",
        "model.add(Conv2D(32, input_shape = (28,28,1), kernel_size= 3, activation = 'relu'))\n",
        "model.add(BatchNormalization())\n",
        "model.add(Dropout(0.10))\n",
        "model.add(Conv2D(64, kernel_size= 3, activation = 'relu'))\n",
        "model.add(BatchNormalization())\n",
        "model.add(Dropout(0.25))\n",
        "model.add(Conv2D(128, kernel_size= 3, activation = 'relu'))\n",
        "model.add(BatchNormalization())\n",
        "model.add(Dropout(0.5))\n",
        "model.add(Flatten())\n",
        "model.add(Dense(27, activation = 'relu'))"
      ],
      "execution_count": 14,
      "outputs": []
    },
    {
      "cell_type": "code",
      "metadata": {
        "id": "ThEW7UIbR3X7",
        "colab_type": "code",
        "colab": {
          "base_uri": "https://localhost:8080/",
          "height": 527
        },
        "outputId": "33123552-f30c-4d5d-fcf6-0bcc880e8ed3"
      },
      "source": [
        "model.summary()"
      ],
      "execution_count": 15,
      "outputs": [
        {
          "output_type": "stream",
          "text": [
            "Model: \"sequential\"\n",
            "_________________________________________________________________\n",
            "Layer (type)                 Output Shape              Param #   \n",
            "=================================================================\n",
            "conv2d (Conv2D)              (None, 26, 26, 32)        320       \n",
            "_________________________________________________________________\n",
            "batch_normalization (BatchNo (None, 26, 26, 32)        128       \n",
            "_________________________________________________________________\n",
            "dropout (Dropout)            (None, 26, 26, 32)        0         \n",
            "_________________________________________________________________\n",
            "conv2d_1 (Conv2D)            (None, 24, 24, 64)        18496     \n",
            "_________________________________________________________________\n",
            "batch_normalization_1 (Batch (None, 24, 24, 64)        256       \n",
            "_________________________________________________________________\n",
            "dropout_1 (Dropout)          (None, 24, 24, 64)        0         \n",
            "_________________________________________________________________\n",
            "conv2d_2 (Conv2D)            (None, 22, 22, 128)       73856     \n",
            "_________________________________________________________________\n",
            "batch_normalization_2 (Batch (None, 22, 22, 128)       512       \n",
            "_________________________________________________________________\n",
            "dropout_2 (Dropout)          (None, 22, 22, 128)       0         \n",
            "_________________________________________________________________\n",
            "flatten (Flatten)            (None, 61952)             0         \n",
            "_________________________________________________________________\n",
            "dense (Dense)                (None, 27)                1672731   \n",
            "=================================================================\n",
            "Total params: 1,766,299\n",
            "Trainable params: 1,765,851\n",
            "Non-trainable params: 448\n",
            "_________________________________________________________________\n"
          ],
          "name": "stdout"
        }
      ]
    },
    {
      "cell_type": "code",
      "metadata": {
        "id": "7fBFI8QaUcr4",
        "colab_type": "code",
        "colab": {}
      },
      "source": [
        "input_train, input_test = input_train/255, input_test/255"
      ],
      "execution_count": 16,
      "outputs": []
    },
    {
      "cell_type": "code",
      "metadata": {
        "id": "SgpcuMBBR55p",
        "colab_type": "code",
        "colab": {}
      },
      "source": [
        "model.compile(optimizer = 'adam', loss = 'categorical_crossentropy', metrics =  ['accuracy'])"
      ],
      "execution_count": 17,
      "outputs": []
    },
    {
      "cell_type": "code",
      "metadata": {
        "id": "tt038CkwUN8Y",
        "colab_type": "code",
        "colab": {
          "base_uri": "https://localhost:8080/",
          "height": 717
        },
        "outputId": "45eb1ee2-b5ab-49f5-854a-f61de406192e"
      },
      "source": [
        "history = model.fit(input_train, target_train_OH, epochs = 20, validation_data = (input_test, target_test_OH))"
      ],
      "execution_count": 18,
      "outputs": [
        {
          "output_type": "stream",
          "text": [
            "Epoch 1/20\n",
            "3900/3900 [==============================] - 61s 16ms/step - loss: 3.1707 - accuracy: 0.5700 - val_loss: 2.2284 - val_accuracy: 0.6550\n",
            "Epoch 2/20\n",
            "3900/3900 [==============================] - 61s 16ms/step - loss: 1.7182 - accuracy: 0.7293 - val_loss: 1.8083 - val_accuracy: 0.7361\n",
            "Epoch 3/20\n",
            "3900/3900 [==============================] - 59s 15ms/step - loss: 1.5431 - accuracy: 0.7662 - val_loss: 1.5981 - val_accuracy: 0.6913\n",
            "Epoch 4/20\n",
            "3900/3900 [==============================] - 59s 15ms/step - loss: 1.5160 - accuracy: 0.7646 - val_loss: 1.4520 - val_accuracy: 0.8021\n",
            "Epoch 5/20\n",
            "3900/3900 [==============================] - 59s 15ms/step - loss: 1.5501 - accuracy: 0.7625 - val_loss: 1.5492 - val_accuracy: 0.7814\n",
            "Epoch 6/20\n",
            "3900/3900 [==============================] - 59s 15ms/step - loss: 1.3946 - accuracy: 0.7681 - val_loss: 1.0867 - val_accuracy: 0.8110\n",
            "Epoch 7/20\n",
            "3900/3900 [==============================] - 58s 15ms/step - loss: 1.3782 - accuracy: 0.7766 - val_loss: 1.1374 - val_accuracy: 0.7947\n",
            "Epoch 8/20\n",
            "3900/3900 [==============================] - 58s 15ms/step - loss: 1.2287 - accuracy: 0.7838 - val_loss: 1.5847 - val_accuracy: 0.7695\n",
            "Epoch 9/20\n",
            "3900/3900 [==============================] - 58s 15ms/step - loss: 1.2600 - accuracy: 0.8018 - val_loss: 0.9214 - val_accuracy: 0.8044\n",
            "Epoch 10/20\n",
            "3900/3900 [==============================] - 58s 15ms/step - loss: 1.2188 - accuracy: 0.8009 - val_loss: 1.4970 - val_accuracy: 0.7882\n",
            "Epoch 11/20\n",
            "3900/3900 [==============================] - 58s 15ms/step - loss: 1.2777 - accuracy: 0.7961 - val_loss: 1.6917 - val_accuracy: 0.7576\n",
            "Epoch 12/20\n",
            "3900/3900 [==============================] - 58s 15ms/step - loss: 1.2838 - accuracy: 0.7965 - val_loss: 1.2908 - val_accuracy: 0.8158\n",
            "Epoch 13/20\n",
            "3900/3900 [==============================] - 58s 15ms/step - loss: 1.3718 - accuracy: 0.7960 - val_loss: 1.2543 - val_accuracy: 0.8263\n",
            "Epoch 14/20\n",
            "3900/3900 [==============================] - 58s 15ms/step - loss: 1.2619 - accuracy: 0.8074 - val_loss: 1.0632 - val_accuracy: 0.8163\n",
            "Epoch 15/20\n",
            "3900/3900 [==============================] - 58s 15ms/step - loss: 1.2497 - accuracy: 0.8135 - val_loss: 1.3170 - val_accuracy: 0.8297\n",
            "Epoch 16/20\n",
            "3900/3900 [==============================] - 59s 15ms/step - loss: 1.1519 - accuracy: 0.8095 - val_loss: 1.0579 - val_accuracy: 0.8169\n",
            "Epoch 17/20\n",
            "3900/3900 [==============================] - 62s 16ms/step - loss: 1.2201 - accuracy: 0.8193 - val_loss: 1.1242 - val_accuracy: 0.8275\n",
            "Epoch 18/20\n",
            "3900/3900 [==============================] - 59s 15ms/step - loss: 1.1265 - accuracy: 0.8132 - val_loss: 1.1421 - val_accuracy: 0.8201\n",
            "Epoch 19/20\n",
            "3900/3900 [==============================] - 57s 15ms/step - loss: 1.0658 - accuracy: 0.8151 - val_loss: 1.1928 - val_accuracy: 0.8298\n",
            "Epoch 20/20\n",
            "3900/3900 [==============================] - 57s 15ms/step - loss: 1.0336 - accuracy: 0.8098 - val_loss: 1.1745 - val_accuracy: 0.8059\n"
          ],
          "name": "stdout"
        }
      ]
    },
    {
      "cell_type": "code",
      "metadata": {
        "id": "XpZ5s4tmaKy5",
        "colab_type": "code",
        "colab": {
          "base_uri": "https://localhost:8080/",
          "height": 122
        },
        "outputId": "2cb83140-7599-4529-84f5-f7f8fff4a954"
      },
      "source": [
        "from google.colab import drive \n",
        "drive.mount('/content/gdrive', force_remount= True)"
      ],
      "execution_count": 22,
      "outputs": [
        {
          "output_type": "stream",
          "text": [
            "Go to this URL in a browser: https://accounts.google.com/o/oauth2/auth?client_id=947318989803-6bn6qk8qdgf4n4g3pfee6491hc0brc4i.apps.googleusercontent.com&redirect_uri=urn%3aietf%3awg%3aoauth%3a2.0%3aoob&scope=email%20https%3a%2f%2fwww.googleapis.com%2fauth%2fdocs.test%20https%3a%2f%2fwww.googleapis.com%2fauth%2fdrive%20https%3a%2f%2fwww.googleapis.com%2fauth%2fdrive.photos.readonly%20https%3a%2f%2fwww.googleapis.com%2fauth%2fpeopleapi.readonly&response_type=code\n",
            "\n",
            "Enter your authorization code:\n",
            "··········\n",
            "Mounted at /content/gdrive\n"
          ],
          "name": "stdout"
        }
      ]
    },
    {
      "cell_type": "code",
      "metadata": {
        "id": "gWaX9qfabEK6",
        "colab_type": "code",
        "colab": {
          "base_uri": "https://localhost:8080/",
          "height": 34
        },
        "outputId": "6598c7de-3fbc-4354-ca9e-02bb16559327"
      },
      "source": [
        "cd '/content/gdrive/My Drive/External Datasets'"
      ],
      "execution_count": 23,
      "outputs": [
        {
          "output_type": "stream",
          "text": [
            "/content/gdrive/My Drive/External Datasets\n"
          ],
          "name": "stdout"
        }
      ]
    },
    {
      "cell_type": "code",
      "metadata": {
        "id": "jtA9e9vobJoz",
        "colab_type": "code",
        "colab": {}
      },
      "source": [
        "model.save('EMNIST-letter-recognition.h5')"
      ],
      "execution_count": 24,
      "outputs": []
    },
    {
      "cell_type": "code",
      "metadata": {
        "id": "Z3Wm4ktYbQGQ",
        "colab_type": "code",
        "colab": {}
      },
      "source": [
        "probability_model = tf.keras.Sequential([\n",
        "  model, tf.keras.layers.Softmax()\n",
        "])"
      ],
      "execution_count": 26,
      "outputs": []
    },
    {
      "cell_type": "code",
      "metadata": {
        "id": "67VguTTjbznl",
        "colab_type": "code",
        "colab": {}
      },
      "source": [
        "predictions = probability_model(input_test[:8000])"
      ],
      "execution_count": 30,
      "outputs": []
    },
    {
      "cell_type": "code",
      "metadata": {
        "id": "ocsPn61Hb7dm",
        "colab_type": "code",
        "colab": {}
      },
      "source": [
        "def predict(index):\n",
        "  plt.imshow(np.reshape(input_test[index], (28,28)))\n",
        "  \n",
        "  class_prediction = get_key(np.argmax(predictions[index]))\n",
        "  print()\n",
        "\n",
        "  print(f'I predict that this is letter - {class_prediction}'),\n",
        "  return\n",
        "        "
      ],
      "execution_count": 41,
      "outputs": []
    },
    {
      "cell_type": "code",
      "metadata": {
        "id": "eaFptMegb7b1",
        "colab_type": "code",
        "colab": {
          "base_uri": "https://localhost:8080/",
          "height": 299
        },
        "outputId": "17b968ef-ab25-46b8-b170-2801a06c7f25"
      },
      "source": [
        "from random import randint\n",
        "\n",
        "n = randint(0,8000)\n",
        "\n",
        "predict(n)"
      ],
      "execution_count": 57,
      "outputs": [
        {
          "output_type": "stream",
          "text": [
            "\n",
            "I predict that this is letter - b\n"
          ],
          "name": "stdout"
        },
        {
          "output_type": "display_data",
          "data": {
            "image/png": "[encoded data removed]",
            "text/plain": [
              "<Figure size 432x288 with 1 Axes>"
            ]
          },
          "metadata": {
            "tags": [],
            "needs_background": "light"
          }
        }
      ]
    }
  ]
}