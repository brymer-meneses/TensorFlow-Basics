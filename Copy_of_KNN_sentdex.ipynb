{
  "nbformat": 4,
  "nbformat_minor": 0,
  "metadata": {
    "colab": {
      "name": "Copy of KNN - sentdex.ipynb",
      "provenance": [],
      "authorship_tag": "ABX9TyNDsaxORFl7KnSvKVkbpeK6",
      "include_colab_link": true
    },
    "kernelspec": {
      "name": "python3",
      "display_name": "Python 3"
    }
  },
  "cells": [
    {
      "cell_type": "markdown",
      "metadata": {
        "id": "view-in-github",
        "colab_type": "text"
      },
      "source": [
        "<a href=\"https://colab.research.google.com/github/xBrymer/TensorFlow-Basics/blob/master/Copy_of_KNN_sentdex.ipynb\" target=\"_parent\"><img src=\"https://colab.research.google.com/assets/colab-badge.svg\" alt=\"Open In Colab\"/></a>"
      ]
    },
    {
      "cell_type": "code",
      "metadata": {
        "id": "ZTtY4WEFL3Xr",
        "colab_type": "code",
        "colab": {}
      },
      "source": [
        "import tensorflow as tf\n",
        "import numpy as np\n",
        "import pandas as pd\n",
        "import matplotlib.pyplot as plt\n",
        "\n",
        "from sklearn import preprocessing, neighbors\n",
        "from sklearn.model_selection import cross_validate\n",
        "from sklearn.model_selection import train_test_split"
      ],
      "execution_count": null,
      "outputs": []
    },
    {
      "cell_type": "code",
      "metadata": {
        "id": "zGbGkgjhM7-E",
        "colab_type": "code",
        "colab": {}
      },
      "source": [
        "bc_data_path = tf.keras.utils.get_file('breast-cancer-wisconsin.data',\n",
        "'https://archive.ics.uci.edu/ml/machine-learning-databases/breast-cancer-wisconsin/breast-cancer-wisconsin.data')"
      ],
      "execution_count": null,
      "outputs": []
    },
    {
      "cell_type": "code",
      "metadata": {
        "id": "xg1MQjbJOnM5",
        "colab_type": "code",
        "colab": {}
      },
      "source": [
        "columns = ['id','clump_thickness','unif_cell_size','unif_cell_shape','marg_adhesion','single_epith_cell_size','bare_nuclei','bland_chrom','norm_nuceloli', 'mitoses','class']"
      ],
      "execution_count": null,
      "outputs": []
    },
    {
      "cell_type": "code",
      "metadata": {
        "id": "t3bemcyQNrEG",
        "colab_type": "code",
        "colab": {}
      },
      "source": [
        "df = pd.read_csv(bc_data_path, names = columns)"
      ],
      "execution_count": null,
      "outputs": []
    },
    {
      "cell_type": "code",
      "metadata": {
        "id": "YluU5ipjP8Y3",
        "colab_type": "code",
        "colab": {}
      },
      "source": [
        "#-99999 marks the data as an outlier for the model\n",
        "\n",
        "df.replace('?', -99999, inplace = True)\n",
        "df.drop(['id'],1, inplace = True)"
      ],
      "execution_count": null,
      "outputs": []
    },
    {
      "cell_type": "code",
      "metadata": {
        "id": "5Wlc_5ezRJl9",
        "colab_type": "code",
        "colab": {}
      },
      "source": [
        "x = np.array(df.drop(['class'],1))\n",
        "y = np.array(df['class'])"
      ],
      "execution_count": null,
      "outputs": []
    },
    {
      "cell_type": "code",
      "metadata": {
        "id": "HIRVn6TQRa-9",
        "colab_type": "code",
        "colab": {}
      },
      "source": [
        "x_train, x_test, y_train, y_test = train_test_split(x,y,test_size = 0.2)"
      ],
      "execution_count": null,
      "outputs": []
    },
    {
      "cell_type": "code",
      "metadata": {
        "id": "jbzZ_0gaR07M",
        "colab_type": "code",
        "colab": {
          "base_uri": "https://localhost:8080/",
          "height": 72
        },
        "outputId": "7284326a-2f8d-4258-c819-3f359617a0a3"
      },
      "source": [
        "clf = neighbors.KNeighborsClassifier()\n",
        "clf.fit(x_train, y_train)"
      ],
      "execution_count": null,
      "outputs": [
        {
          "output_type": "execute_result",
          "data": {
            "text/plain": [
              "KNeighborsClassifier(algorithm='auto', leaf_size=30, metric='minkowski',\n",
              "                     metric_params=None, n_jobs=None, n_neighbors=5, p=2,\n",
              "                     weights='uniform')"
            ]
          },
          "metadata": {
            "tags": []
          },
          "execution_count": 27
        }
      ]
    },
    {
      "cell_type": "code",
      "metadata": {
        "id": "JXK9Hc8dSHSe",
        "colab_type": "code",
        "colab": {
          "base_uri": "https://localhost:8080/",
          "height": 35
        },
        "outputId": "e2973a1c-5739-49c3-d789-3c0ed216142e"
      },
      "source": [
        "accuracy = clf.score(x_test, y_test)\n",
        "print(accuracy)"
      ],
      "execution_count": null,
      "outputs": [
        {
          "output_type": "stream",
          "text": [
            "0.9642857142857143\n"
          ],
          "name": "stdout"
        }
      ]
    },
    {
      "cell_type": "code",
      "metadata": {
        "id": "-UMUlsJ0Sr_E",
        "colab_type": "code",
        "colab": {}
      },
      "source": [
        "example_measure = np.array([4,2,1,4,6,2,1,5,6])\n",
        "example_measure = example_measure.reshape(1,-1)"
      ],
      "execution_count": null,
      "outputs": []
    },
    {
      "cell_type": "code",
      "metadata": {
        "id": "8vQGmxe4S_AF",
        "colab_type": "code",
        "colab": {
          "base_uri": "https://localhost:8080/",
          "height": 35
        },
        "outputId": "0cd1d5de-2f37-4634-b70a-f786d7eeabdf"
      },
      "source": [
        "prediction = clf.predict(example_measure)\n",
        "print(prediction)"
      ],
      "execution_count": null,
      "outputs": [
        {
          "output_type": "stream",
          "text": [
            "[2]\n"
          ],
          "name": "stdout"
        }
      ]
    }
  ]
}